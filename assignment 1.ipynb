{
 "cells": [
  {
   "cell_type": "markdown",
   "id": "2cae82df-7ff2-4fbf-8a38-7acdf7cc61b6",
   "metadata": {},
   "source": [
    "ASSIGNMENT- 1"
   ]
  },
  {
   "cell_type": "raw",
   "id": "28ff1bd8-a998-4535-93ac-d1df21112aba",
   "metadata": {},
   "source": [
    "ANSWER 1 "
   ]
  },
  {
   "cell_type": "code",
   "execution_count": 36,
   "id": "eeb7329a-fa23-4fe6-a5d9-0f2913b82790",
   "metadata": {},
   "outputs": [],
   "source": [
    "#(i) variable containing string\n",
    "a=\"HELLO\"\n",
    "#(ii)variable containing list\n",
    "b=[\"hi\", 4 , 5 ,5]\n",
    "#(iii)variable containing float\n",
    "c=4.5\n",
    "#(iv)variable containing tuple\n",
    "d=(4,2,5,3,6)"
   ]
  },
  {
   "cell_type": "markdown",
   "id": "7ece9f69-c4ab-4615-986f-916e3a63423f",
   "metadata": {},
   "source": [
    "ANSWER 2"
   ]
  },
  {
   "cell_type": "code",
   "execution_count": 37,
   "id": "d92981ed-ed11-4cdb-b97a-c440ce1b66c0",
   "metadata": {},
   "outputs": [
    {
     "name": "stdout",
     "output_type": "stream",
     "text": [
      "<class 'str'>\n",
      "<class 'str'>\n",
      "<class 'list'>\n",
      "<class 'float'>\n"
     ]
    }
   ],
   "source": [
    "var1 = ''\n",
    "var2 ='[ DS , ML , Python]'\n",
    "var3 =[ 'DS' , 'ML' , 'Python' ]\n",
    "var4 = 1.\n",
    "print(type(var1))\n",
    "print(type(var2))\n",
    "print(type(var3))\n",
    "print(type(var4))"
   ]
  },
  {
   "cell_type": "markdown",
   "id": "9ff45f7e-117e-4e27-bd4d-7c0f5b0b2450",
   "metadata": {},
   "source": [
    "ANSWER 3"
   ]
  },
  {
   "cell_type": "code",
   "execution_count": 38,
   "id": "32b30143-b455-45ad-a20d-b307a5696203",
   "metadata": {},
   "outputs": [
    {
     "name": "stdout",
     "output_type": "stream",
     "text": [
      "division: 4.5\n",
      "remainder: 5\n",
      "floor_division: 4\n",
      "exponent: 34050628916015625\n"
     ]
    }
   ],
   "source": [
    "a=10         \n",
    "b=45\n",
    "division=b/a   #(i)\n",
    "remainder=b%a    #(ii)\n",
    "floor_division=b//a  #(iii)\n",
    "exponent=b**a   #(iv)\n",
    "print(\"division:\", division)\n",
    "print(\"remainder:\", remainder)\n",
    "print(\"floor_division:\", floor_division)\n",
    "print(\"exponent:\", exponent)"
   ]
  },
  {
   "cell_type": "markdown",
   "id": "78019cf1-d16d-4073-a3ff-a499e881303f",
   "metadata": {},
   "source": [
    "ANSWER 4"
   ]
  },
  {
   "cell_type": "code",
   "execution_count": 39,
   "id": "0f7d8a9c-5eab-45a5-bd95-ea7387f58cf3",
   "metadata": {
    "tags": []
   },
   "outputs": [
    {
     "name": "stdout",
     "output_type": "stream",
     "text": [
      "hello <class 'str'>\n",
      "5 <class 'int'>\n",
      "4.5 <class 'float'>\n",
      "True <class 'bool'>\n",
      "dear <class 'str'>\n",
      "7 <class 'int'>\n",
      "485.6 <class 'float'>\n",
      "False <class 'bool'>\n",
      "5.5 <class 'float'>\n",
      "7 <class 'int'>\n"
     ]
    }
   ],
   "source": [
    "l=[\"hello\", 5, 4.5, True , \"dear\" ,7,485.6 ,False ,5.5,7]\n",
    "for i in l:\n",
    "    print(i ,type(i))\n",
    "    "
   ]
  },
  {
   "cell_type": "markdown",
   "id": "699d447a-3e67-4826-a710-f11b5061a535",
   "metadata": {},
   "source": [
    "ANSWER 5"
   ]
  },
  {
   "cell_type": "code",
   "execution_count": 41,
   "id": "72cbf870-f5ac-4806-9242-7da395249d34",
   "metadata": {
    "tags": []
   },
   "outputs": [
    {
     "name": "stdin",
     "output_type": "stream",
     "text": [
      "Enter number A:  100\n",
      "Enter number B:  10\n"
     ]
    },
    {
     "name": "stdout",
     "output_type": "stream",
     "text": [
      "Number A is divisible by number B, and it can be divided 2 times.\n"
     ]
    }
   ],
   "source": [
    "A = int(input(\"Enter number A: \"))\n",
    "B = int(input(\"Enter number B: \"))\n",
    "\n",
    "count = 0\n",
    "while A % B == 0:\n",
    "    A = A // B\n",
    "    count += 1\n",
    "\n",
    "if count > 0:\n",
    "    print(f\"Number A is divisible by number B, and it can be divided {count} times.\")\n",
    "else:\n",
    "    print(\"Number A is not divisible by number B.\")\n"
   ]
  },
  {
   "cell_type": "markdown",
   "id": "2b8d2dce-2775-4f63-9c03-ec6cc16732ac",
   "metadata": {},
   "source": [
    "ANSWER 6"
   ]
  },
  {
   "cell_type": "code",
   "execution_count": 42,
   "id": "cf2fa816-ffc5-4381-98d8-abfa1df810e1",
   "metadata": {
    "tags": []
   },
   "outputs": [
    {
     "name": "stdout",
     "output_type": "stream",
     "text": [
      "12 is divisible by 3.\n",
      "34 is not divisible by 3.\n",
      "17 is not divisible by 3.\n",
      "9 is divisible by 3.\n",
      "21 is divisible by 3.\n",
      "56 is not divisible by 3.\n",
      "33 is divisible by 3.\n",
      "42 is divisible by 3.\n",
      "8 is not divisible by 3.\n",
      "11 is not divisible by 3.\n",
      "27 is divisible by 3.\n",
      "50 is not divisible by 3.\n",
      "61 is not divisible by 3.\n",
      "18 is divisible by 3.\n",
      "30 is divisible by 3.\n",
      "23 is not divisible by 3.\n",
      "15 is divisible by 3.\n",
      "37 is not divisible by 3.\n",
      "48 is divisible by 3.\n",
      "5 is not divisible by 3.\n",
      "10 is not divisible by 3.\n",
      "39 is divisible by 3.\n",
      "46 is not divisible by 3.\n",
      "20 is not divisible by 3.\n",
      "25 is not divisible by 3.\n"
     ]
    }
   ],
   "source": [
    "numbers = [12, 34, 17, 9, 21, 56, 33, 42, 8, 11, 27, 50, 61, 18, 30, 23, 15, 37, 48, 5, 10, 39, 46, 20, 25]\n",
    "\n",
    "for num in numbers:\n",
    "    if num % 3 == 0:\n",
    "        print(f\"{num} is divisible by 3.\")\n",
    "    else:\n",
    "        print(f\"{num} is not divisible by 3.\")\n"
   ]
  },
  {
   "cell_type": "markdown",
   "id": "0ad0f52a-cdbf-4550-b368-5e44b87b0877",
   "metadata": {},
   "source": [
    "ANSWER 7"
   ]
  },
  {
   "cell_type": "raw",
   "id": "43c4ad3c-0ed8-4d65-94f9-45e0fc8e6a1b",
   "metadata": {},
   "source": [
    "An immutable data type means that once an object is created, its value cannot be changed. Eg- int,str,tuple\n",
    "\n",
    "On the other hand, a mutable data type allows modifications to its value after it has been created.Eg- list,dictionaries, sets"
   ]
  },
  {
   "cell_type": "code",
   "execution_count": 43,
   "id": "89fa13b2-c150-42f5-8bff-7dfffcc12c62",
   "metadata": {
    "collapsed": true,
    "jupyter": {
     "outputs_hidden": true
    },
    "tags": []
   },
   "outputs": [
    {
     "name": "stdout",
     "output_type": "stream",
     "text": [
      "Alice\n"
     ]
    },
    {
     "ename": "TypeError",
     "evalue": "'str' object does not support item assignment",
     "output_type": "error",
     "traceback": [
      "\u001b[0;31m---------------------------------------------------------------------------\u001b[0m",
      "\u001b[0;31mTypeError\u001b[0m                                 Traceback (most recent call last)",
      "Cell \u001b[0;32mIn[43], line 6\u001b[0m\n\u001b[1;32m      3\u001b[0m \u001b[38;5;28mprint\u001b[39m(name)\n\u001b[1;32m      5\u001b[0m \u001b[38;5;66;03m# Trying to modify a character at a specific index in the string will result in an error.\u001b[39;00m\n\u001b[0;32m----> 6\u001b[0m \u001b[43mname\u001b[49m\u001b[43m[\u001b[49m\u001b[38;5;241;43m0\u001b[39;49m\u001b[43m]\u001b[49m \u001b[38;5;241m=\u001b[39m \u001b[38;5;124m\"\u001b[39m\u001b[38;5;124mB\u001b[39m\u001b[38;5;124m\"\u001b[39m  \u001b[38;5;66;03m# Raises TypeError: 'str' object does not support item assignment\u001b[39;00m\n",
      "\u001b[0;31mTypeError\u001b[0m: 'str' object does not support item assignment"
     ]
    }
   ],
   "source": [
    "# IMMUTABLE\n",
    "name = \"Alice\"\n",
    "print(name)\n",
    "\n",
    "# Trying to modify a character at a specific index in the string will result in an error.\n",
    "name[0] = \"B\"  # Raises TypeError: 'str' object does not support item assignment\n"
   ]
  },
  {
   "cell_type": "code",
   "execution_count": 44,
   "id": "465992e3-258b-4d0b-bb94-9f7d3f3fd8db",
   "metadata": {},
   "outputs": [
    {
     "name": "stdout",
     "output_type": "stream",
     "text": [
      "[1, 2, 3, 4]\n",
      "[5, 2, 3, 4]\n"
     ]
    }
   ],
   "source": [
    "#  MUTABLE\n",
    "numbers = [1, 2, 3, 4]\n",
    "print(numbers) \n",
    "\n",
    "numbers[0] = 5\n",
    "print(numbers) \n",
    "\n",
    "# The original list object is modified."
   ]
  }
 ],
 "metadata": {
  "kernelspec": {
   "display_name": "Python 3 (ipykernel)",
   "language": "python",
   "name": "python3"
  },
  "language_info": {
   "codemirror_mode": {
    "name": "ipython",
    "version": 3
   },
   "file_extension": ".py",
   "mimetype": "text/x-python",
   "name": "python",
   "nbconvert_exporter": "python",
   "pygments_lexer": "ipython3",
   "version": "3.10.8"
  },
  "toc-autonumbering": true,
  "toc-showtags": true
 },
 "nbformat": 4,
 "nbformat_minor": 5
}
